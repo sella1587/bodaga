{
  "nbformat": 4,
  "nbformat_minor": 0,
  "metadata": {
    "colab": {
      "provenance": [],
      "toc_visible": true,
      "include_colab_link": true
    },
    "kernelspec": {
      "name": "python3",
      "display_name": "Python 3"
    },
    "language_info": {
      "name": "python"
    }
  },
  "cells": [
    {
      "cell_type": "markdown",
      "metadata": {
        "id": "view-in-github",
        "colab_type": "text"
      },
      "source": [
        "<a href=\"https://colab.research.google.com/github/sella1587/bodaga/blob/master/Numpy.ipynb\" target=\"_parent\"><img src=\"https://colab.research.google.com/assets/colab-badge.svg\" alt=\"Open In Colab\"/></a>"
      ]
    },
    {
      "cell_type": "markdown",
      "source": [
        "![Q.jfif](data:image/jpeg;base64,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)"
      ],
      "metadata": {
        "id": "u8c-G2Pos9IX"
      }
    },
    {
      "cell_type": "markdown",
      "source": [
        "<hr style=\"border-width:2px;border-color:#75DFC1\">\n",
        "<center><h1>NumPy</h1></center>\n",
        "<center><h2>Apprenez à maitriser les Arrays</h2></center>\n",
        "<hr style=\"border-width:2px;border-color:#75DFC1\">"
      ],
      "metadata": {
        "id": "hkDj1SeztZKY"
      }
    },
    {
      "cell_type": "markdown",
      "source": [
        "🔶**Pensez à faire une copie de ce notebook avec de réaliser l'exercice**🔶"
      ],
      "metadata": {
        "id": "oPIHh33qtfJn"
      }
    },
    {
      "cell_type": "markdown",
      "source": [
        "Ce notebook vous servira tout au long de la section Classes\n",
        "\n",
        "Pensez à sauvegarder vos modifications et le garder précieusement pour le futur !"
      ],
      "metadata": {
        "id": "nkNnrcjO_QQw"
      }
    },
    {
      "cell_type": "markdown",
      "source": [
        "# Création et Indexation"
      ],
      "metadata": {
        "id": "Td-5dQpD-c32"
      }
    },
    {
      "cell_type": "markdown",
      "source": [
        "**Exercice**\n",
        "La matrice suivante est dite diagonale par blocs parce que chaque bloc de 3x3 contient le même chiffre.\n",
        "\n",
        "```\n",
        "              [1, 1, 1, 0, 0, 0]\n",
        "              [1, 1, 1, 0, 0, 0]\n",
        "              [1, 1, 1, 0, 0, 0]\n",
        "              [0, 0, 0, -1, -1, -1]\n",
        "              [0, 0, 0, -1, -1, -1]\n",
        "              [0, 0, 0, -1, -1, -1]\n",
        "```\n",
        "\n",
        "*  En utilisant le constructeur `np.array` et cette matrice comme argument, créez une nouvelle instance de `array` et assignez là à la variable X.\n",
        "\n",
        "*  Recréez cette matrice en utilisant le slicing. Pour cela,\n",
        "  1.  Créez une matrice de taille 6x6 pleine de zéros. Vous pourrez utilisez le constructeur `np.zeros` pour cela. Notez qu'il se comporte exactement comme le constructeur `np.ones` qu'on a vu en cours.\n",
        "  2. En utilisant le slicing,\n",
        "    - assignez au premier bloc 3x3 la valeure 1\n",
        "    - Assignez au dernier bloc 3x3 la valeur 1"
      ],
      "metadata": {
        "id": "TXQW7WQo5eWH"
      }
    },
    {
      "cell_type": "code",
      "source": [],
      "metadata": {
        "id": "orgbVW5H5drt"
      },
      "execution_count": null,
      "outputs": []
    },
    {
      "cell_type": "code",
      "source": [],
      "metadata": {
        "id": "6hpzDeH06vzH"
      },
      "execution_count": null,
      "outputs": []
    },
    {
      "cell_type": "markdown",
      "source": [
        "*Réponse* ⛔"
      ],
      "metadata": {
        "id": "cYzJQhMH6zmA"
      }
    },
    {
      "cell_type": "code",
      "source": [
        "#@title\n",
        "import numpy as np\n",
        "\n",
        "# Création d'une matrice\n",
        "X = np.array([[1, 1, 1, 0, 0, 0],\n",
        "              [1, 1, 1, 0, 0, 0],\n",
        "              [1, 1, 1, 0, 0, 0],\n",
        "              [0, 0, 0, -1, -1, -1],\n",
        "              [0, 0, 0, -1, -1, -1],\n",
        "              [0, 0, 0, -1, -1, -1]])\n",
        "\n",
        "print(X)"
      ],
      "metadata": {
        "id": "QF8R6QcG6wl-",
        "cellView": "form"
      },
      "execution_count": null,
      "outputs": []
    },
    {
      "cell_type": "code",
      "source": [
        "#@title\n",
        "import numpy as np\n",
        "\n",
        "# Création d'une matrice de dimensions 6x6 remplies de zéros\n",
        "X = np.zeros(shape = (6, 6))\n",
        "\n",
        "# Assignation de la valeur 1 au premier bloc diagonal\n",
        "X[:3, :3] = 1\n",
        "\n",
        "# Assignation de la valeur -1 au second bloc diagonal\n",
        "X[3:, 3:] = -1\n",
        "\n",
        "# Affichage de la matrice\n",
        "print(X)"
      ],
      "metadata": {
        "id": "BtgJbYbxiVzY",
        "cellView": "form"
      },
      "execution_count": null,
      "outputs": []
    },
    {
      "cell_type": "markdown",
      "source": [
        "**Exercice 2 : Consolidation**\n",
        "\n",
        "\n"
      ],
      "metadata": {
        "id": "Qvs7VssVtfm_"
      }
    },
    {
      "cell_type": "markdown",
      "source": [
        "* (b) À l'aide des constructeurs et du slicing des arrays, créer et afficher la matrice suivante :\n",
        "\n",
        "\n",
        "\n",
        "```\n",
        "              [0, 1, 2, 3, 4, 5],\n",
        "              [0, 1, 2, 3, 4, 5],\n",
        "              [0, 1, 2, 3, 4, 5],\n",
        "              [0, 1, 2, 3, 4, 5],\n",
        "              [0, 1, 2, 3, 4, 5]\n",
        "```\n",
        "\n",
        "Indices:\n",
        "  - Pour cela, essayez de ne pas recopier les valeurs directement dans le constructeur\n",
        "  - Vous pouvez par exemple commencer à partir d'une matrice 6x6 pleine de 0\n",
        "  - Remarquer, par exemple, que les colonnes vont de 0 à 5 et que vous savez générez ce genre de suite de chiffres entiers"
      ],
      "metadata": {
        "id": "iyfu9aByU3X4"
      }
    },
    {
      "cell_type": "code",
      "execution_count": null,
      "metadata": {
        "id": "6Uml5xVls6lG"
      },
      "outputs": [],
      "source": []
    },
    {
      "cell_type": "code",
      "source": [],
      "metadata": {
        "id": "L0_yaJlbwhzb"
      },
      "execution_count": null,
      "outputs": []
    },
    {
      "cell_type": "markdown",
      "source": [
        "*Réponse* ⛔"
      ],
      "metadata": {
        "id": "87hlyKnht0co"
      }
    },
    {
      "cell_type": "markdown",
      "source": [
        "**Solution 1**"
      ],
      "metadata": {
        "id": "UOebbW_lY6IM"
      }
    },
    {
      "cell_type": "code",
      "source": [
        "#@title\n",
        "# Première solution\n",
        "X = np.zeros(shape = (6, 6))\n",
        "\n",
        "# On remplace chaque ligne par 'np.array([0, 1, 2, 3, 4, 5])''\n",
        "for i in range(6):\n",
        "    X[i,:] = np.array([0, 1, 2, 3, 4, 5])\n",
        "\n",
        "# Affichage de la matrice\n",
        "print(X)"
      ],
      "metadata": {
        "id": "tPY863tfWH6F",
        "cellView": "form"
      },
      "execution_count": null,
      "outputs": []
    },
    {
      "cell_type": "markdown",
      "source": [
        "**Solution 2**"
      ],
      "metadata": {
        "id": "WnD9aOGXY9Wk"
      }
    },
    {
      "cell_type": "code",
      "source": [
        "#@title\n",
        "# Deuxième solution\n",
        "\n",
        "X = np.zeros(shape = (6, 6))\n",
        "\n",
        "# À chaque colonne de X on affecte son indice\n",
        "for i in range(6):\n",
        "    X[:,i] = i\n",
        "\n",
        "# Affichage de la matrice\n",
        "print(X)"
      ],
      "metadata": {
        "cellView": "form",
        "id": "r-TpQhDPirxe"
      },
      "execution_count": null,
      "outputs": []
    },
    {
      "cell_type": "markdown",
      "source": [
        "# Opérations sur les array"
      ],
      "metadata": {
        "id": "_QPpK5f3lCHc"
      }
    },
    {
      "cell_type": "markdown",
      "metadata": {
        "id": "IEviowHlRibj"
      },
      "source": [
        "Le module numpy contient des fonctions mathématiques de base telles que :\n",
        "\n",
        "| Fonction                 | Fonction Numpy       |\n",
        "|--------------------------|----------------------|\n",
        "| exp(x)                   | np.exp(x)            |\n",
        "| log(x)                   | np.log(x)            |\n",
        "| sin(x)                   | np.sin(x)            |\n",
        "| cos(x)                   | np.cos(x)            |\n",
        "| Arrondi à n décimales    | np.round(x, decimals=n) |\n",
        "\n"
      ]
    },
    {
      "cell_type": "markdown",
      "metadata": {
        "id": "TIdFvbsgSLkJ"
      },
      "source": [
        "* (a) Définir une fonction f prenant en argument un array X et permettant de calculer en une seule ligne de code la fonction suivante :\n",
        "> f(x)=exp(sin(x)+cos(x))\n",
        "\n",
        "\n",
        "* (b) Afficher les 10 premiers éléments du résultat arrondi à 2 décimales de la fonction f appliquée à l'array X ci-dessous"
      ]
    },
    {
      "cell_type": "code",
      "execution_count": 2,
      "metadata": {
        "id": "0xal9mSzSQ5H",
        "colab": {
          "base_uri": "https://localhost:8080/"
        },
        "outputId": "23697d7b-595b-45ee-fbc2-af939c204f1d"
      },
      "outputs": [
        {
          "output_type": "stream",
          "name": "stdout",
          "text": [
            "[2.71828183 2.74546328 2.7726365  2.79979313 2.8269247  2.85402258\n",
            " 2.88107805 2.90808226 2.93502626 2.96190097 2.98869723 3.01540575\n",
            " 3.04201719 3.06852207 3.09491088 3.12117399 3.14730172 3.17328432\n",
            " 3.19911198 3.22477484 3.25026298 3.27556645 3.30067526 3.32557941\n",
            " 3.35026887 3.37473358 3.39896349 3.42294856 3.44667875 3.47014403\n",
            " 3.4933344  3.51623989 3.53885058 3.56115657 3.58314805 3.60481525\n",
            " 3.62614847 3.6471381  3.66777461 3.68804857 3.70795064 3.72747161\n",
            " 3.74660237 3.76533394 3.78365748 3.80156429 3.81904581 3.83609366\n",
            " 3.8526996  3.86885558 3.8845537  3.89978629 3.91454584 3.92882505\n",
            " 3.94261683 3.9559143  3.96871081 3.98099992 3.99277543 4.00403139\n",
            " 4.01476208 4.02496203 4.03462604 4.04374914 4.05232666 4.06035417\n",
            " 4.06782754 4.0747429  4.08109667 4.08688554 4.0921065  4.09675684\n",
            " 4.10083414 4.10433625 4.10726136 4.10960793 4.11137473 4.11256083\n",
            " 4.11316563 4.11318879 4.1126303  4.11149047 4.10976988 4.10746944\n",
            " 4.10459035 4.10113412 4.09710256 4.09249777 4.08732214 4.08157839\n",
            " 4.07526949 4.06839873 4.06096966 4.05298612 4.04445224 4.03537242\n",
            " 4.02575131 4.01559385 4.00490523 3.99369089]\n"
          ]
        }
      ],
      "source": [
        "import numpy as np\n",
        "X = np.array([i/100 for i in range(100)])\n",
        "\n",
        "def calc(x):\n",
        "  return np.exp(np.sin(x) + np.cos(x))\n",
        "print(calc(X))\n",
        "\n",
        "# Votre code ici"
      ]
    },
    {
      "cell_type": "markdown",
      "source": [
        "*Réponse* ⛔"
      ],
      "metadata": {
        "id": "CTnq8Yqaltqp"
      }
    },
    {
      "cell_type": "code",
      "execution_count": null,
      "metadata": {
        "id": "Wl9e_rbESRNw"
      },
      "outputs": [],
      "source": [
        "import numpy as np\n",
        "\n",
        "#@title\n",
        "X = np.array([i/100 for i in range(100)])\n",
        "\n",
        "print(X)\n",
        "\n",
        "def f(X):\n",
        "    return np.exp(np.sin(X) + np.cos(X))\n",
        "\n",
        "resultat = f(X)\n",
        "\n",
        "print(resultat)\n",
        "\n",
        "arrondi = np.round(resultat, 2)\n",
        "\n",
        "print(arrondi[:10])"
      ]
    },
    {
      "cell_type": "markdown",
      "metadata": {
        "id": "oQT5iiBiSYyq"
      },
      "source": [
        "* (c) Définir une fonction f_python qui effectue la même opération sur chaque élément de X à l'aide d'une boucle for.\n",
        "> Les dimensions d'un array X peuvent être récupérées à l'aide de l'attribut shape de X qui est un tuple : shape = X.shape.\n",
        ">\n",
        "> Pour un array à une dimension, le nombre d'éléments contenus dans cet array correspond au premier élément de sa shape : n = X.shape[0]."
      ]
    },
    {
      "cell_type": "code",
      "execution_count": null,
      "metadata": {
        "id": "PvRavfI6SeM7"
      },
      "outputs": [],
      "source": []
    },
    {
      "cell_type": "markdown",
      "source": [
        "*Réponse* ⛔"
      ],
      "metadata": {
        "id": "uj1Blpyll072"
      }
    },
    {
      "cell_type": "code",
      "execution_count": 1,
      "metadata": {
        "cellView": "form",
        "id": "7aqB8B8ASeic",
        "colab": {
          "base_uri": "https://localhost:8080/",
          "height": 176
        },
        "outputId": "20c5567e-cf2a-407d-bce7-892bceef7f28"
      },
      "outputs": [
        {
          "output_type": "error",
          "ename": "NameError",
          "evalue": "name 'X' is not defined",
          "traceback": [
            "\u001b[0;31m---------------------------------------------------------------------------\u001b[0m",
            "\u001b[0;31mNameError\u001b[0m                                 Traceback (most recent call last)",
            "\u001b[0;32m/tmp/ipython-input-3810827245.py\u001b[0m in \u001b[0;36m<cell line: 0>\u001b[0;34m()\u001b[0m\n\u001b[1;32m      5\u001b[0m         \u001b[0mX\u001b[0m\u001b[0;34m[\u001b[0m\u001b[0mi\u001b[0m\u001b[0;34m]\u001b[0m \u001b[0;34m=\u001b[0m \u001b[0mnp\u001b[0m\u001b[0;34m.\u001b[0m\u001b[0mexp\u001b[0m\u001b[0;34m(\u001b[0m\u001b[0mnp\u001b[0m\u001b[0;34m.\u001b[0m\u001b[0msin\u001b[0m\u001b[0;34m(\u001b[0m\u001b[0mX\u001b[0m\u001b[0;34m[\u001b[0m\u001b[0mi\u001b[0m\u001b[0;34m]\u001b[0m\u001b[0;34m)\u001b[0m \u001b[0;34m+\u001b[0m \u001b[0mnp\u001b[0m\u001b[0;34m.\u001b[0m\u001b[0mcos\u001b[0m\u001b[0;34m(\u001b[0m\u001b[0mX\u001b[0m\u001b[0;34m[\u001b[0m\u001b[0mi\u001b[0m\u001b[0;34m]\u001b[0m\u001b[0;34m)\u001b[0m\u001b[0;34m)\u001b[0m\u001b[0;34m\u001b[0m\u001b[0;34m\u001b[0m\u001b[0m\n\u001b[1;32m      6\u001b[0m \u001b[0;34m\u001b[0m\u001b[0m\n\u001b[0;32m----> 7\u001b[0;31m \u001b[0mprint\u001b[0m\u001b[0;34m(\u001b[0m\u001b[0mX\u001b[0m\u001b[0;34m)\u001b[0m\u001b[0;34m\u001b[0m\u001b[0;34m\u001b[0m\u001b[0m\n\u001b[0m",
            "\u001b[0;31mNameError\u001b[0m: name 'X' is not defined"
          ]
        }
      ],
      "source": [
        "#@title\n",
        "def f_python(X):\n",
        "    n = X.shape[O]\n",
        "    for i in range(n):\n",
        "        X[i] = np.exp(np.sin(X[i]) + np.cos(X[i]))\n",
        "\n",
        "print(X)"
      ]
    },
    {
      "cell_type": "markdown",
      "metadata": {
        "id": "u9OO2rihTegk"
      },
      "source": [
        "Exemple de la rapidité d'exécution sur un array de de 10M de valeurs\n",
        "\n",
        "Test de comparaison à faire avec une boucle for"
      ]
    },
    {
      "cell_type": "code",
      "execution_count": null,
      "metadata": {
        "colab": {
          "base_uri": "https://localhost:8080/"
        },
        "id": "GGKyvcMESlQV",
        "outputId": "2d412296-dbb4-4c9c-e1a8-a929bebb05bc"
      },
      "outputs": [
        {
          "output_type": "stream",
          "name": "stdout",
          "text": [
            "Le calcul de f avec une boucle for a pris 0.3669400215148926 secondes\n"
          ]
        }
      ],
      "source": [
        "from time import time\n",
        "\n",
        "# Création d'un array à 10 millions de valeurs\n",
        "X = np.array([i/1e7 for i in range(int(1e7))])\n",
        "\n",
        "heure_debut = time()\n",
        "f(X)\n",
        "heure_fin = time()\n",
        "\n",
        "temps = heure_fin - heure_debut\n",
        "\n",
        "print(\"Le calcul de f avec une boucle for a pris\", temps, \"secondes\")"
      ]
    },
    {
      "cell_type": "code",
      "source": [],
      "metadata": {
        "id": "1j5O4QRotkca"
      },
      "execution_count": null,
      "outputs": []
    },
    {
      "cell_type": "markdown",
      "source": [
        "#Indexation Conditionnelle d'un array Numpy"
      ],
      "metadata": {
        "id": "B6W2sdy2tl0U"
      }
    },
    {
      "cell_type": "markdown",
      "metadata": {
        "id": "_VLJNtlxUUaA"
      },
      "source": [
        "Nous disposons de données d'un supermarché américain qui se prépare pour le Black Friday, une journée où les commerces américains proposent de très grandes réduction pour finir leurs saisons.\n",
        "\n",
        "Ces données sont distribuées sur 3 arrays :\n",
        "\n",
        ">* items : Le nom des objets qui seront en promotion.\n",
        "* quantities : Le stock disponible pour chaque objet en promotion.\n",
        "* discounts : La réduction de prix de chaque objet. Les objets peuvent avoir une réduction de 25, 50, 75 ou 90 pourcents.\n",
        "\n",
        "* Lancer la cellule suivante pour instancier les arrays contenant les données du supermarché."
      ]
    },
    {
      "cell_type": "code",
      "execution_count": 3,
      "metadata": {
        "id": "1wiZynzYUC6V"
      },
      "outputs": [],
      "source": [
        "import numpy as np\n",
        "\n",
        "items = np.array([\"grid paper\",\"plate\",\"rubber band\",\"key chain\",\"bread\",\"speakers\",\"chocolate\",\n",
        "                  \"fridge\",\"bowl\",\"shirt\",\"truck\",\"canvas\",\"monitor\",\"piano\",\"sailboat\",\"clamp\",\n",
        "                  \"spring\",\"picture frame\",\"knife\",\"hanger\",\"pool stick\",\"buckel\",\"vase\",\"wagon\",\n",
        "                  \"balloon\",\"thread\",\"couch\",\"drawer\",\"packing peanuts\",\"bottle\",\"needle\",\n",
        "                  \"rusty nail\",\"blanket\",\"lamp\",\"box\",\"cookie jar\",\"washing machine\",\"paint brush\",\n",
        "                  \"puddle\",\"sketch pad\",\"sandal\",\"doll\",\"floor\",\"sidewalk\",\"sand paper\",\"stockings\",\n",
        "                  \"bag\",\"perfume\",\"magnet\",\"fake flowers\",\"street lights\",\"carrots\",\"purse\",\"thermostat\",\n",
        "                  \"candle\",\"mouse pad\",\"remote\",\"clothes\",\"rubber duck\",\"hair brush\",\"computer\",\"toe ring\",\n",
        "                  \"scotch tape\",\"nail file\",\"window\",\"table\",\"model car\",\"toothbrush\",\"shoes\",\"leg warmers\",\n",
        "                  \"cat\",\"pillow\",\"rug\",\"hair tie\",\"phone\",\"tooth picks\",\"brocolli\",\"newspaper\",\"towel\",\n",
        "                  \"watch\",\"lotion\",\"apple\",\"pants\",\"air freshener\",\"pen\",\"lace\",\"car\",\"headphones\",\n",
        "                  \"charger\",\"toilet\",\"candy wrapper\",\"soy sauce packet\",\"sticky note\",\"shoe lace\",\n",
        "                  \"zipper\",\"soda can\",\"bed\",\"cell phone\",\"lip gloss\",\"thermometer\"])\n",
        "\n",
        "quantities = np.array([310, 455, 295, 613, 812, 907, 564, 904, 829, 167, 517, 272, 416,\n",
        "                       14, 251, 476, 757, 343, 472,  71, 160, 996, 182, 721, 565, 582,\n",
        "                       279,  66, 297, 800, 914,  69, 498, 885, 114, 876, 635, 295, 146,\n",
        "                       601, 941, 100, 370, 467, 423, 101, 504, 298, 757, 291, 163, 970,\n",
        "                       921, 953, 458, 381, 692, 393, 749, 285, 454, 174,  37, 289, 863,\n",
        "                       885, 331, 585, 678, 834, 349, 732, 149, 486, 993, 869, 967, 537,\n",
        "                       220,  15, 457, 483, 387, 180, 579, 155, 134, 163, 314, 334, 429,\n",
        "                       154,  18, 426, 363, 146, 454, 902, 145,  95])\n",
        "\n",
        "discounts = np.array([25, 25, 50, 25, 50, 50, 50, 25, 50, 50, 25, 25, 25, 25, 50, 75, 25,\n",
        "                      50, 50, 50, 25, 25, 25, 25, 75, 50, 25, 25, 25, 25, 90, 50, 25, 25,\n",
        "                      25, 50, 50, 25, 25, 75, 75, 50, 25, 25, 50, 25, 90, 90, 50, 90, 25,\n",
        "                      25, 25, 25, 25, 25, 25, 50, 25, 25, 75, 50, 50, 25, 50, 25, 25, 50,\n",
        "                      25, 75, 25, 25, 50, 25, 25, 50, 75, 25, 25, 90, 25, 75, 25, 25, 25,\n",
        "                      25, 25, 25, 50, 50, 75, 25, 50, 25, 25, 50, 25, 25, 25, 75])"
      ]
    },
    {
      "cell_type": "markdown",
      "metadata": {
        "id": "YN54hSvQUiUJ"
      },
      "source": [
        "* À l'aide d'une indexation conditionnelle sur items et quantities, afficher le nom et la quantité des objets qui auront une réduction de 90%."
      ]
    },
    {
      "cell_type": "code",
      "source": [
        "nom = items[discounts == 90]\n",
        "qtt = quantities[discounts == 90]\n",
        "rest = dict(zip(nom, qtt))\n",
        "print(rest)"
      ],
      "metadata": {
        "colab": {
          "base_uri": "https://localhost:8080/"
        },
        "id": "nWZ2Wk_Ut4xs",
        "outputId": "ec9725c2-9f3d-45e2-c07d-97050e4c7a9f"
      },
      "execution_count": 9,
      "outputs": [
        {
          "output_type": "stream",
          "name": "stdout",
          "text": [
            "{np.str_('needle'): np.int64(914), np.str_('bag'): np.int64(504), np.str_('perfume'): np.int64(298), np.str_('fake flowers'): np.int64(291), np.str_('watch'): np.int64(15)}\n"
          ]
        }
      ]
    },
    {
      "cell_type": "markdown",
      "source": [
        "Réponse ⛔"
      ],
      "metadata": {
        "id": "yA6iIq6GtshE"
      }
    },
    {
      "cell_type": "code",
      "execution_count": null,
      "metadata": {
        "id": "bmR4fc2VUj31"
      },
      "outputs": [],
      "source": [
        "#@title\n",
        "\n",
        "# Affichage des items\n",
        "print(items[discounts == 90])\n",
        "\n",
        "print(quantities[discounts==90])\n"
      ]
    },
    {
      "cell_type": "markdown",
      "metadata": {
        "id": "tGZe4BhvU5oZ"
      },
      "source": [
        "Vous voulez vous acheter un nouveau téléphone portable (\"cell phone\") et des enceintes sonores (\"speakers\").\n",
        "\n",
        "* Déterminer à l'aide d'une indexation conditionnelle sur discounts la réduction qui leur sera accordée."
      ]
    },
    {
      "cell_type": "code",
      "execution_count": 19,
      "metadata": {
        "id": "24DBg9DQU8gM",
        "colab": {
          "base_uri": "https://localhost:8080/"
        },
        "outputId": "5c9d6be8-8d5c-4d91-e20d-8ab4c2842d99"
      },
      "outputs": [
        {
          "output_type": "stream",
          "name": "stdout",
          "text": [
            "[50] [25]\n"
          ]
        }
      ],
      "source": [
        "quantites = quantities[items == \"cell phone\"] #+ quantities[items ==\"speakers\"]\n",
        "discount_cellphone = discounts[quantities == quantites]\n",
        "discount_cellphone\n",
        "var_di = quantites\n",
        "discount_speackers = discounts[quantities == quantities[items ==\"speakers\"]]\n",
        "print(discount_speackers, discount_cellphone)\n",
        "# disc = discounts[discounts == quantites]\n",
        "# disc"
      ]
    },
    {
      "cell_type": "markdown",
      "source": [
        "Réponse ⛔"
      ],
      "metadata": {
        "id": "irmgWMcQtx7C"
      }
    },
    {
      "cell_type": "code",
      "execution_count": null,
      "metadata": {
        "id": "2ph4Ar4pU800",
        "cellView": "form"
      },
      "outputs": [],
      "source": [
        "#@title\n",
        "reduction_telephone = discounts[items == 'cell phone']\n",
        "print(reduction_telephone[0])\n",
        "\n",
        "#@title\n",
        "reduction_enceintes = discounts[items == 'speakers']\n",
        "print(reduction_enceintes[0])"
      ]
    },
    {
      "cell_type": "markdown",
      "metadata": {
        "id": "O01zcBHwVBUu"
      },
      "source": [
        "Le gérant du supermarché voudrait savoir quels objets risquent de partir très vite.\n",
        "\n",
        "* Afficher le nom des objets dont la quantité est inférieure à 50 et la réduction qui leur est accordée.\n",
        "* Quel objet risque de partir extrêmement vite ?"
      ]
    },
    {
      "cell_type": "code",
      "execution_count": 21,
      "metadata": {
        "id": "dXHYjnRdVA-K",
        "colab": {
          "base_uri": "https://localhost:8080/"
        },
        "outputId": "3c48299b-4080-4d1d-f286-53e48d4824a0"
      },
      "outputs": [
        {
          "output_type": "stream",
          "name": "stdout",
          "text": [
            "['piano' 'scotch tape' 'watch' 'sticky note']\n",
            "[25 50 90 50]\n"
          ]
        }
      ],
      "source": [
        "print(items[quantities < 50])\n",
        "print(discounts[quantities < 50])"
      ]
    },
    {
      "cell_type": "markdown",
      "source": [
        "Réponse ⛔\n"
      ],
      "metadata": {
        "id": "gdpQLOnpt2JK"
      }
    },
    {
      "cell_type": "code",
      "execution_count": null,
      "metadata": {
        "id": "LRFM5lCLVA1d",
        "cellView": "form"
      },
      "outputs": [],
      "source": [
        "#@title\n",
        "print(items[quantities < 50], discounts[quantities < 50])"
      ]
    },
    {
      "cell_type": "markdown",
      "source": [
        "# Redimensionnement d'un Array"
      ],
      "metadata": {
        "id": "lZslRUfT4AcH"
      }
    },
    {
      "cell_type": "markdown",
      "source": [
        "Nous allons brièvement explorer le jeu de données digits du module scikit-learn, un module Python permettant de développer des modèles de machine learning.\n",
        "\n",
        "Le jeu de données digits contient 1797 images de chiffres manuscrits allant de 0 à 9.\n",
        "L'objectif de ce jeu de données est de trouver un algorithme de machine learning capable de lire des chiffres manuscrits.\n",
        "\n",
        "Les images de ce jeu de données ont une résolution de 8x8 pixels en échelle de gris.\n",
        "\n",
        "* Lancer la cellule suivante pour charger le jeu de données digits du module scikit-learn."
      ],
      "metadata": {
        "id": "4XtFf28_4EJE"
      }
    },
    {
      "cell_type": "code",
      "source": [
        "# La fonction load_digits permet de charger le jeu de données \"digits\" dans un array\n",
        "from sklearn.datasets import load_digits\n",
        "\n",
        "# La fonction load_digits renvoie un dictionnaire contenant\n",
        "# les données ainsi que d'autres informations sur le jeu de données\n",
        "digits = load_digits()\n",
        "\n",
        "# Les données des images se trouvent dans la clé \"data\"\n",
        "X = digits['data']"
      ],
      "metadata": {
        "id": "OZG873s94HeF"
      },
      "execution_count": null,
      "outputs": []
    },
    {
      "cell_type": "markdown",
      "source": [
        "Toutes les images ont été chargées dans l'array X.\n",
        "\n",
        "* Afficher les dimensions de X à l'aide de l'attribut shape."
      ],
      "metadata": {
        "id": "DiyCkvYM4Lal"
      }
    },
    {
      "cell_type": "code",
      "source": [],
      "metadata": {
        "id": "XuF6Gh1l4MwB"
      },
      "execution_count": null,
      "outputs": []
    },
    {
      "cell_type": "code",
      "source": [
        "#@title\n",
        "print(X.shape)"
      ],
      "metadata": {
        "id": "0xkJfky-4ODO"
      },
      "execution_count": null,
      "outputs": []
    },
    {
      "cell_type": "markdown",
      "source": [
        "> L'array X contenant les images a les dimensions **1797 x 64**, ce qui ne correspond pas du tout aux dimensions des images.\n",
        ">\n",
        "> En fait, les 1797 images de dimensions 8x8 **ont été redimensionnées en vecteurs de taille 8x8 = 64** pour les rendre **compatibles** avec les algorithmes de scikit-learn **qui ne sont pas capables de traiter des données matricielles**.\n",
        ">\n",
        "> Ensuite, les 1797 vecteurs ont été **empilés dans une matrice** pour former X.\n",
        "Cela permet d'avoir **tout le jeu de données dans une seule matrice**.\n",
        "Chaque ligne de X correspond donc à une image qui a été transformée en vecteur.\n",
        ">\n",
        ">Si nous voulons visualiser les images, nous devons redimensionner les vecteurs de 64 éléments en matrices de dimensions 8x8.\n",
        "En effet, les fonctions pour afficher des images ne peuvent traiter que des matrices et non des vecteurs.\n",
        ">\n",
        "> Pour afficher les images contenues dans X, nous allons redimensionner X pour obtenir un array de dimensions 1797x8x8."
      ],
      "metadata": {
        "id": "X10szCtQ4Rn2"
      }
    },
    {
      "cell_type": "markdown",
      "source": [
        " * Stocker la matrice X redimensionnée avec la shape (1797, 8, 8) dans un array nommé X_reshaped.\n",
        "* Stocker l'image contenue à l'indice 1100 de X_reshaped dans un array nommé img."
      ],
      "metadata": {
        "id": "hrEdvPB94gRU"
      }
    },
    {
      "cell_type": "code",
      "source": [],
      "metadata": {
        "id": "CMy-Hhey4kZ3"
      },
      "execution_count": null,
      "outputs": []
    },
    {
      "cell_type": "markdown",
      "source": [
        "Réponse ⛔"
      ],
      "metadata": {
        "id": "TMwwtZlR4oDf"
      }
    },
    {
      "cell_type": "code",
      "source": [
        "#@title\n",
        "X_reshaped = X.reshape((1797, 8, 8))\n",
        "\n",
        "print(X.reshape)\n",
        "\n",
        "img = X_reshaped[1100]\n",
        "\n",
        "print(img)"
      ],
      "metadata": {
        "id": "RI92m4Hg4kre",
        "cellView": "form"
      },
      "execution_count": null,
      "outputs": []
    },
    {
      "cell_type": "markdown",
      "source": [
        "* Lancer la cellule suivante pour afficher img. De quel chiffre s'agit-il ?"
      ],
      "metadata": {
        "id": "-y6MaqjZ4p89"
      }
    },
    {
      "cell_type": "code",
      "source": [
        "import matplotlib.pyplot as plt\n",
        "_ = plt.imshow(img, cmap = 'gray')\n",
        "_ = plt.axis(\"off\")"
      ],
      "metadata": {
        "id": "Gs2ku2lt4r3v"
      },
      "execution_count": null,
      "outputs": []
    },
    {
      "cell_type": "markdown",
      "source": [
        "# Concaténation d'arrays"
      ],
      "metadata": {
        "id": "X25bnnda4yD7"
      }
    },
    {
      "cell_type": "markdown",
      "source": [
        "* Stocker l'image contenue à l'indice 560 de X_reshaped dans un array nommé img1.\n",
        "* Stocker l'image contenue à l'indice 561 de X_reshaped dans un array nommé img2.\n",
        "* Concaténer les arrays img1 et img2 verticalement dans un array nommé img3 (c'est-à-dire sur l'axe des lignes)."
      ],
      "metadata": {
        "id": "r82ECp2d44R7"
      }
    },
    {
      "cell_type": "code",
      "source": [],
      "metadata": {
        "id": "yGY_n8dx4z8p"
      },
      "execution_count": null,
      "outputs": []
    },
    {
      "cell_type": "markdown",
      "source": [
        "Réponse ⛔"
      ],
      "metadata": {
        "id": "Z3n0AX_Q4719"
      }
    },
    {
      "cell_type": "code",
      "source": [
        "#@title\n",
        "img1 = X_reshaped[560]\n",
        "\n",
        "img2 = X_reshaped[561]\n",
        "\n",
        "img3 = np.concatenate([img1, img2], axis = 0)"
      ],
      "metadata": {
        "id": "TlYSdzLQ49Sr",
        "cellView": "form"
      },
      "execution_count": null,
      "outputs": []
    },
    {
      "cell_type": "markdown",
      "source": [
        "* Lancer la cellule suivante pour afficher le résultat de la concaténation."
      ],
      "metadata": {
        "id": "NqzztBDu5Az6"
      }
    },
    {
      "cell_type": "code",
      "source": [
        "# @title\n",
        "# Affichage de la première image\n",
        "plt.subplot(1, 3, 1)\n",
        "_ = plt.imshow(img1, cmap = 'gray')\n",
        "_ = plt.axis(\"off\")\n",
        "_ = plt.title(\"Image 1\")\n",
        "\n",
        "# Affichage de la deuxième image\n",
        "plt.subplot(1, 3, 2)\n",
        "_ = plt.imshow(img2, cmap = 'gray')\n",
        "_ = plt.axis(\"off\")\n",
        "_ = plt.title(\"Image 2\")\n",
        "\n",
        "# Affichage de la concaténatin des images\n",
        "plt.subplot(1, 3, 3)\n",
        "_ = plt.imshow(img3, cmap = 'gray')\n",
        "_ = plt.axis(\"off\")\n",
        "_ = plt.title(\"Concaténation Verticale\")\n",
        "\n",
        "# Redimensionnement de l'affichage\n",
        "fig = plt.gcf()\n",
        "fig.set_size_inches((10,6))"
      ],
      "metadata": {
        "id": "5dix8EKZ5Bge"
      },
      "execution_count": null,
      "outputs": []
    },
    {
      "cell_type": "code",
      "source": [],
      "metadata": {
        "id": "wMkwj6gX6Gr0"
      },
      "execution_count": null,
      "outputs": []
    },
    {
      "cell_type": "markdown",
      "source": [
        "# Opérateurs arithmétiques"
      ],
      "metadata": {
        "id": "67VpwsC8F89L"
      }
    },
    {
      "cell_type": "markdown",
      "source": [
        "## Multiplication de 2 array"
      ],
      "metadata": {
        "id": "xyJpwjuJYaxs"
      }
    },
    {
      "cell_type": "code",
      "source": [],
      "metadata": {
        "id": "0phrCGiiadP0"
      },
      "execution_count": null,
      "outputs": []
    },
    {
      "cell_type": "markdown",
      "source": [
        "- Utilisez la fonction `np.random.randint` pour créer 2 array `array_aleatoire_1` et `array_aleatoire_2` de nombres aléatoires dont la `size` est égale à `(8,8,3)` et dont les valeurs vont entre 1 et 45. En cas de doute sur comment utiliser cette fonction, lire la documentation [ici](https://numpy.org/doc/stable/reference/random/generated/numpy.random.randint.html)\n",
        "- Multipliez ces deux arrayx entre elles et stockez le résultat dans l'array `resultat_multiplication`\n",
        "- Utilisez la fonction `np.sum` pour sommer les valeurs à l'intérieur de la variable `resultat_multiplication`\n",
        "\n",
        "Notez bien, votre code doit commencer avec la ligne suivante\n",
        "`np.random.seed(32)`. Ceci permettra d'avoir des résultats reproductibles.\n",
        "\n",
        "Qu'obtenez-vous?"
      ],
      "metadata": {
        "id": "piBfwG5vGd-h"
      }
    },
    {
      "cell_type": "code",
      "source": [],
      "metadata": {
        "id": "kJkZc2xAadsr"
      },
      "execution_count": null,
      "outputs": []
    },
    {
      "cell_type": "markdown",
      "source": [
        "Réponse ⛔"
      ],
      "metadata": {
        "id": "gLrz0In8ae1y"
      }
    },
    {
      "cell_type": "code",
      "source": [
        "# @title\n",
        "import numpy as np"
      ],
      "metadata": {
        "id": "BfPy7DvaOvDl",
        "cellView": "form"
      },
      "execution_count": null,
      "outputs": []
    },
    {
      "cell_type": "code",
      "source": [
        "# @title\n",
        "np.random.seed(32)\n",
        "array_aleatoire_1 = np.random.randint(low=1, high=45, size=(8,8,3))\n",
        "array_aleatoire_2 = np.random.randint(low=1, high=45, size=(8,8,3))\n",
        "resultat_multiplication = array_aleatoire_1 * array_aleatoire_2\n",
        "np.sum(resultat_multiplication)"
      ],
      "metadata": {
        "id": "HntXJkjZWP7C",
        "cellView": "form"
      },
      "execution_count": null,
      "outputs": []
    },
    {
      "cell_type": "markdown",
      "source": [
        "## Addition de 2 array\n",
        "\n",
        "En utilisant les variables `array_aleatoire_1` et `array_aleatoire_2`:\n",
        "  - Sommez les et stockez le résultat dans la variable `resultat_addition`\n",
        "  - Utilisez la fonction `np.prod` pour multiplier tous les chiffres de l'array `resultat addition` entre eux\n",
        "\n",
        "  Quel est le résultat?\n"
      ],
      "metadata": {
        "id": "7D7l5IguYvA_"
      }
    },
    {
      "cell_type": "markdown",
      "source": [
        "Réponse ⛔"
      ],
      "metadata": {
        "id": "KBa3HIrHakbk"
      }
    },
    {
      "cell_type": "code",
      "source": [
        "# @title\n",
        "resultat_addition = array_aleatoire_1 + array_aleatoire_2\n",
        "np.prod(resultat_addition)"
      ],
      "metadata": {
        "id": "pUV_kvTHXz7I",
        "cellView": "form"
      },
      "execution_count": null,
      "outputs": []
    },
    {
      "cell_type": "code",
      "source": [],
      "metadata": {
        "id": "hpcG10fVZZGY"
      },
      "execution_count": null,
      "outputs": []
    }
  ]
}